{
 "cells": [
  {
   "cell_type": "code",
   "execution_count": 1,
   "source": [
    "import http.client\n",
    "\n",
    "conn = http.client.HTTPSConnection(\"financialtimesmikilior1v1.p.rapidapi.com\")\n",
    "\n",
    "payload = \"apiKey=6d71847306msha450ca9a873251ep1978a8jsn9a497b12d0d9\"\n",
    "\n",
    "headers = {\n",
    "    'content-type': \"application/x-www-form-urlencoded\",\n",
    "    'x-rapidapi-key': \"6d71847306msha450ca9a873251ep1978a8jsn9a497b12d0d9\",\n",
    "    'x-rapidapi-host': \"FinancialTimesmikilior1V1.p.rapidapi.com\"\n",
    "    }\n",
    "\n",
    "conn.request(\"POST\", \"https://financialtimesmikilior1v1.p.rapidapi.com/getAspectsList\", payload, headers)\n",
    "\n",
    "res = conn.getresponse()\n",
    "data = res.read()\n",
    "\n",
    "print(data.decode(\"utf-8\"))\n"
   ],
   "outputs": [
    {
     "output_type": "stream",
     "name": "stdout",
     "text": [
      "{\"messages\":\"The API is unreachable, please contact the API provider\", \"info\": \"Your Client (working) ---> Gateway (working) ---> API (not working)\"}\n"
     ]
    }
   ],
   "metadata": {}
  },
  {
   "cell_type": "code",
   "execution_count": null,
   "source": [],
   "outputs": [],
   "metadata": {}
  },
  {
   "cell_type": "code",
   "execution_count": null,
   "source": [],
   "outputs": [],
   "metadata": {}
  },
  {
   "cell_type": "markdown",
   "source": [],
   "metadata": {}
  },
  {
   "cell_type": "code",
   "execution_count": null,
   "source": [],
   "outputs": [],
   "metadata": {}
  },
  {
   "cell_type": "code",
   "execution_count": null,
   "source": [],
   "outputs": [],
   "metadata": {}
  }
 ],
 "metadata": {
  "interpreter": {
   "hash": "3348cf23ed75c9dac50eb24142da9eba36265541fd4a77b5e2dcd8c09b83e929"
  },
  "kernelspec": {
   "name": "python3",
   "display_name": "Python 3.8.2 64-bit ('fintech': conda)"
  },
  "language_info": {
   "codemirror_mode": {
    "name": "ipython",
    "version": 3
   },
   "file_extension": ".py",
   "mimetype": "text/x-python",
   "name": "python",
   "nbconvert_exporter": "python",
   "pygments_lexer": "ipython3",
   "version": "3.8.2"
  },
  "orig_nbformat": 4
 },
 "nbformat": 4,
 "nbformat_minor": 2
}